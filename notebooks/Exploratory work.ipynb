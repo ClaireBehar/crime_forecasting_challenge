{
 "cells": [
  {
   "cell_type": "markdown",
   "metadata": {},
   "source": [
    "# Exploratory work"
   ]
  },
  {
   "cell_type": "markdown",
   "metadata": {},
   "source": [
    "## Imports"
   ]
  },
  {
   "cell_type": "code",
   "execution_count": 2,
   "metadata": {
    "collapsed": true
   },
   "outputs": [],
   "source": [
    "import pandas as pd\n",
    "import bokeh as bk"
   ]
  },
  {
   "cell_type": "markdown",
   "metadata": {},
   "source": [
    "## Opening the file"
   ]
  },
  {
   "cell_type": "code",
   "execution_count": 4,
   "metadata": {
    "collapsed": false
   },
   "outputs": [],
   "source": [
    "crimes = pd.read_csv(\"../data/crimes.csv\")"
   ]
  },
  {
   "cell_type": "markdown",
   "metadata": {},
   "source": [
    "### Describing data"
   ]
  },
  {
   "cell_type": "code",
   "execution_count": 5,
   "metadata": {
    "collapsed": false
   },
   "outputs": [
    {
     "data": {
      "text/html": [
       "<div>\n",
       "<table border=\"1\" class=\"dataframe\">\n",
       "  <thead>\n",
       "    <tr style=\"text-align: right;\">\n",
       "      <th></th>\n",
       "      <th>Unnamed: 0</th>\n",
       "      <th>x_coordinate</th>\n",
       "      <th>y_coordinate</th>\n",
       "      <th>census_tract</th>\n",
       "    </tr>\n",
       "  </thead>\n",
       "  <tbody>\n",
       "    <tr>\n",
       "      <th>count</th>\n",
       "      <td>876264.000000</td>\n",
       "      <td>8.762640e+05</td>\n",
       "      <td>876264.000000</td>\n",
       "      <td>825001.000000</td>\n",
       "    </tr>\n",
       "    <tr>\n",
       "      <th>mean</th>\n",
       "      <td>438132.500000</td>\n",
       "      <td>7.657717e+06</td>\n",
       "      <td>684501.156084</td>\n",
       "      <td>6335.378767</td>\n",
       "    </tr>\n",
       "    <tr>\n",
       "      <th>std</th>\n",
       "      <td>252955.772478</td>\n",
       "      <td>1.704266e+04</td>\n",
       "      <td>12389.867584</td>\n",
       "      <td>33657.394316</td>\n",
       "    </tr>\n",
       "    <tr>\n",
       "      <th>min</th>\n",
       "      <td>1.000000</td>\n",
       "      <td>7.547902e+06</td>\n",
       "      <td>602723.000000</td>\n",
       "      <td>100.000000</td>\n",
       "    </tr>\n",
       "    <tr>\n",
       "      <th>25%</th>\n",
       "      <td>219066.750000</td>\n",
       "      <td>7.644031e+06</td>\n",
       "      <td>676195.000000</td>\n",
       "      <td>2303.000000</td>\n",
       "    </tr>\n",
       "    <tr>\n",
       "      <th>50%</th>\n",
       "      <td>438132.500000</td>\n",
       "      <td>7.654634e+06</td>\n",
       "      <td>683684.000000</td>\n",
       "      <td>4900.000000</td>\n",
       "    </tr>\n",
       "    <tr>\n",
       "      <th>75%</th>\n",
       "      <td>657198.250000</td>\n",
       "      <td>7.671738e+06</td>\n",
       "      <td>690883.000000</td>\n",
       "      <td>8202.000000</td>\n",
       "    </tr>\n",
       "    <tr>\n",
       "      <th>max</th>\n",
       "      <td>876264.000000</td>\n",
       "      <td>7.762614e+06</td>\n",
       "      <td>787862.000000</td>\n",
       "      <td>980000.000000</td>\n",
       "    </tr>\n",
       "  </tbody>\n",
       "</table>\n",
       "</div>"
      ],
      "text/plain": [
       "          Unnamed: 0  x_coordinate   y_coordinate   census_tract\n",
       "count  876264.000000  8.762640e+05  876264.000000  825001.000000\n",
       "mean   438132.500000  7.657717e+06  684501.156084    6335.378767\n",
       "std    252955.772478  1.704266e+04   12389.867584   33657.394316\n",
       "min         1.000000  7.547902e+06  602723.000000     100.000000\n",
       "25%    219066.750000  7.644031e+06  676195.000000    2303.000000\n",
       "50%    438132.500000  7.654634e+06  683684.000000    4900.000000\n",
       "75%    657198.250000  7.671738e+06  690883.000000    8202.000000\n",
       "max    876264.000000  7.762614e+06  787862.000000  980000.000000"
      ]
     },
     "execution_count": 5,
     "metadata": {},
     "output_type": "execute_result"
    }
   ],
   "source": [
    "crimes.describe()"
   ]
  },
  {
   "cell_type": "code",
   "execution_count": null,
   "metadata": {
    "collapsed": true
   },
   "outputs": [],
   "source": []
  }
 ],
 "metadata": {
  "kernelspec": {
   "display_name": "Python 3",
   "language": "python",
   "name": "python3"
  },
  "language_info": {
   "codemirror_mode": {
    "name": "ipython",
    "version": 3
   },
   "file_extension": ".py",
   "mimetype": "text/x-python",
   "name": "python",
   "nbconvert_exporter": "python",
   "pygments_lexer": "ipython3",
   "version": "3.5.2"
  }
 },
 "nbformat": 4,
 "nbformat_minor": 1
}
