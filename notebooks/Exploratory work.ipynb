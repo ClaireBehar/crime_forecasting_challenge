{
 "cells": [
  {
   "cell_type": "markdown",
   "metadata": {},
   "source": [
    "# Exploratory work"
   ]
  },
  {
   "cell_type": "markdown",
   "metadata": {},
   "source": [
    "## Imports"
   ]
  },
  {
   "cell_type": "code",
   "execution_count": 2,
   "metadata": {
    "collapsed": true
   },
   "outputs": [],
   "source": [
    "import pandas as pd\n",
    "import bokeh as bk"
   ]
  },
  {
   "cell_type": "markdown",
   "metadata": {},
   "source": [
    "## Opening the file"
   ]
  },
  {
   "cell_type": "code",
   "execution_count": 4,
   "metadata": {
    "collapsed": false
   },
   "outputs": [],
   "source": [
    "crimes = pd.read_csv(\"../data/crimes.csv\")"
   ]
  },
  {
   "cell_type": "markdown",
   "metadata": {},
   "source": [
    "### Sample"
   ]
  },
  {
   "cell_type": "code",
   "execution_count": 6,
   "metadata": {
    "collapsed": false
   },
   "outputs": [
    {
     "data": {
      "text/html": [
       "<div>\n",
       "<table border=\"1\" class=\"dataframe\">\n",
       "  <thead>\n",
       "    <tr style=\"text-align: right;\">\n",
       "      <th></th>\n",
       "      <th>Unnamed: 0</th>\n",
       "      <th>CATEGORY</th>\n",
       "      <th>CALL GROUPS</th>\n",
       "      <th>final_case_type</th>\n",
       "      <th>CASE DESC</th>\n",
       "      <th>occ_date</th>\n",
       "      <th>x_coordinate</th>\n",
       "      <th>y_coordinate</th>\n",
       "      <th>census_tract</th>\n",
       "    </tr>\n",
       "  </thead>\n",
       "  <tbody>\n",
       "    <tr>\n",
       "      <th>0</th>\n",
       "      <td>1</td>\n",
       "      <td>STREET CRIMES</td>\n",
       "      <td>DISORDER</td>\n",
       "      <td>DISTP</td>\n",
       "      <td>DISTURBANCE - PRIORITY                        ...</td>\n",
       "      <td>2012-03-01</td>\n",
       "      <td>7641076</td>\n",
       "      <td>684831.0</td>\n",
       "      <td>4900.0</td>\n",
       "    </tr>\n",
       "    <tr>\n",
       "      <th>1</th>\n",
       "      <td>2</td>\n",
       "      <td>STREET CRIMES</td>\n",
       "      <td>DISORDER</td>\n",
       "      <td>DISTP</td>\n",
       "      <td>DISTURBANCE - PRIORITY                        ...</td>\n",
       "      <td>2012-03-01</td>\n",
       "      <td>7642640</td>\n",
       "      <td>683167.0</td>\n",
       "      <td>10600.0</td>\n",
       "    </tr>\n",
       "    <tr>\n",
       "      <th>2</th>\n",
       "      <td>3</td>\n",
       "      <td>STREET CRIMES</td>\n",
       "      <td>DISORDER</td>\n",
       "      <td>DISTP</td>\n",
       "      <td>DISTURBANCE - PRIORITY                        ...</td>\n",
       "      <td>2012-03-01</td>\n",
       "      <td>7643599</td>\n",
       "      <td>683216.0</td>\n",
       "      <td>10600.0</td>\n",
       "    </tr>\n",
       "    <tr>\n",
       "      <th>3</th>\n",
       "      <td>4</td>\n",
       "      <td>STREET CRIMES</td>\n",
       "      <td>DISORDER</td>\n",
       "      <td>DISTP</td>\n",
       "      <td>DISTURBANCE - PRIORITY                        ...</td>\n",
       "      <td>2012-03-01</td>\n",
       "      <td>7644359</td>\n",
       "      <td>693642.0</td>\n",
       "      <td>3502.0</td>\n",
       "    </tr>\n",
       "    <tr>\n",
       "      <th>4</th>\n",
       "      <td>5</td>\n",
       "      <td>STREET CRIMES</td>\n",
       "      <td>DISORDER</td>\n",
       "      <td>DISTP</td>\n",
       "      <td>DISTURBANCE - PRIORITY                        ...</td>\n",
       "      <td>2012-03-01</td>\n",
       "      <td>7644771</td>\n",
       "      <td>683859.0</td>\n",
       "      <td>10600.0</td>\n",
       "    </tr>\n",
       "  </tbody>\n",
       "</table>\n",
       "</div>"
      ],
      "text/plain": [
       "   Unnamed: 0       CATEGORY CALL GROUPS final_case_type  \\\n",
       "0           1  STREET CRIMES    DISORDER          DISTP    \n",
       "1           2  STREET CRIMES    DISORDER          DISTP    \n",
       "2           3  STREET CRIMES    DISORDER          DISTP    \n",
       "3           4  STREET CRIMES    DISORDER          DISTP    \n",
       "4           5  STREET CRIMES    DISORDER          DISTP    \n",
       "\n",
       "                                           CASE DESC    occ_date  \\\n",
       "0  DISTURBANCE - PRIORITY                        ...  2012-03-01   \n",
       "1  DISTURBANCE - PRIORITY                        ...  2012-03-01   \n",
       "2  DISTURBANCE - PRIORITY                        ...  2012-03-01   \n",
       "3  DISTURBANCE - PRIORITY                        ...  2012-03-01   \n",
       "4  DISTURBANCE - PRIORITY                        ...  2012-03-01   \n",
       "\n",
       "   x_coordinate  y_coordinate  census_tract  \n",
       "0       7641076      684831.0        4900.0  \n",
       "1       7642640      683167.0       10600.0  \n",
       "2       7643599      683216.0       10600.0  \n",
       "3       7644359      693642.0        3502.0  \n",
       "4       7644771      683859.0       10600.0  "
      ]
     },
     "execution_count": 6,
     "metadata": {},
     "output_type": "execute_result"
    }
   ],
   "source": [
    "crimes.head(5)"
   ]
  },
  {
   "cell_type": "code",
   "execution_count": null,
   "metadata": {
    "collapsed": true
   },
   "outputs": [],
   "source": []
  }
 ],
 "metadata": {
  "kernelspec": {
   "display_name": "Python 3",
   "language": "python",
   "name": "python3"
  },
  "language_info": {
   "codemirror_mode": {
    "name": "ipython",
    "version": 3
   },
   "file_extension": ".py",
   "mimetype": "text/x-python",
   "name": "python",
   "nbconvert_exporter": "python",
   "pygments_lexer": "ipython3",
   "version": "3.5.2"
  }
 },
 "nbformat": 4,
 "nbformat_minor": 1
}
